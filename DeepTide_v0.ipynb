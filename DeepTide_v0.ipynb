{
  "nbformat": 4,
  "nbformat_minor": 0,
  "metadata": {
    "colab": {
      "provenance": [],
      "gpuType": "T4",
      "include_colab_link": true
    },
    "kernelspec": {
      "name": "python3",
      "display_name": "Python 3"
    },
    "language_info": {
      "name": "python"
    },
    "accelerator": "GPU"
  },
  "cells": [
    {
      "cell_type": "markdown",
      "metadata": {
        "id": "view-in-github",
        "colab_type": "text"
      },
      "source": [
        "<a href=\"https://colab.research.google.com/github/BerpyDerpy/DeepTide-ML/blob/main/DeepTide_v0.ipynb\" target=\"_parent\"><img src=\"https://colab.research.google.com/assets/colab-badge.svg\" alt=\"Open In Colab\"/></a>"
      ]
    },
    {
      "cell_type": "code",
      "source": [
        "pip install biopython"
      ],
      "metadata": {
        "colab": {
          "base_uri": "https://localhost:8080/"
        },
        "id": "Xbu1cxwlu0By",
        "outputId": "36aa3c25-85f8-474d-c8d5-ce6c049929bf"
      },
      "execution_count": 1,
      "outputs": [
        {
          "output_type": "stream",
          "name": "stdout",
          "text": [
            "Collecting biopython\n",
            "  Downloading biopython-1.85-cp312-cp312-manylinux_2_17_x86_64.manylinux2014_x86_64.whl.metadata (13 kB)\n",
            "Requirement already satisfied: numpy in /usr/local/lib/python3.12/dist-packages (from biopython) (2.0.2)\n",
            "Downloading biopython-1.85-cp312-cp312-manylinux_2_17_x86_64.manylinux2014_x86_64.whl (3.3 MB)\n",
            "\u001b[2K   \u001b[90m━━━━━━━━━━━━━━━━━━━━━━━━━━━━━━━━━━━━━━━━\u001b[0m \u001b[32m3.3/3.3 MB\u001b[0m \u001b[31m30.1 MB/s\u001b[0m eta \u001b[36m0:00:00\u001b[0m\n",
            "\u001b[?25hInstalling collected packages: biopython\n",
            "Successfully installed biopython-1.85\n"
          ]
        }
      ]
    },
    {
      "cell_type": "code",
      "source": [
        "# --- Configuration ---\n",
        "Entrez.email = \"mahithazari@gmail.com\"\n",
        "NUM_SEQS_PER_CLASS = 25\n",
        "CLASSES = [\"Cnidaria\", \"Arthropoda\", \"Porifera\", \"Echinodermata\"]\n",
        "OUTPUT_CSV = \"dna_dataset.csv\"\n",
        "SEQ_LENGTH = 300\n",
        "BATCH_SIZE = 8\n",
        "LEARNING_RATE = 0.001\n",
        "EPOCHS = 20\n",
        "DEVICE = \"cuda\" if torch.cuda.is_available() else \"cpu\"\n",
        "\n",
        "print(f\"Using device: {DEVICE}\")\n",
        "\n",
        "# DATA PREPARATION\n",
        "# -----------------------------------------\n",
        "def fetch_sequences(term, num_seqs):\n",
        "    handle = Entrez.esearch(db=\"nucleotide\", term=term, retmax=num_seqs, idtype=\"acc\")\n",
        "    results = Entrez.read(handle)\n",
        "    handle.close()\n",
        "    id_list = results[\"IdList\"]\n",
        "    if not id_list: return \"\"\n",
        "    handle = Entrez.efetch(db=\"nucleotide\", id=id_list, rettype=\"fasta\", retmode=\"text\")\n",
        "    records = handle.read()\n",
        "    handle.close()\n",
        "    return records\n",
        "\n",
        "if not os.path.exists(OUTPUT_CSV):\n",
        "    print(\"Downloading dataset...\")\n",
        "    all_data = []\n",
        "    for label in CLASSES:\n",
        "        search_term = f'(\"{label}\"[Organism]) AND 18S ribosomal RNA[Title] AND 1500:2500[Sequence Length]'\n",
        "        fasta_data = fetch_sequences(search_term, NUM_SEQS_PER_CLASS)\n",
        "        with open(\"temp.fasta\", \"w\") as f: f.write(fasta_data)\n",
        "        for record in SeqIO.parse(\"temp.fasta\", \"fasta\"):\n",
        "            all_data.append({\"sequence\": str(record.seq), \"label\": label})\n",
        "        os.remove(\"temp.fasta\")\n",
        "    df = pd.DataFrame(all_data)\n",
        "    df.to_csv(OUTPUT_CSV, index=False)\n",
        "else:\n",
        "    print(\"Dataset already exists.\")\n",
        "    df = pd.read_csv(OUTPUT_CSV)\n",
        "\n",
        "def one_hot_encode(seq: str):\n",
        "    mapping = {'A': 0, 'C': 1, 'G': 2, 'T': 3, 'N': 4}\n",
        "    encoded = np.zeros((4, len(seq)), dtype=np.float32)\n",
        "    for i, base in enumerate(seq.upper()):\n",
        "        if base in mapping and mapping[base] != 4:\n",
        "            encoded[mapping[base], i] = 1.0\n",
        "    return encoded\n",
        "\n",
        "class DNADataset(Dataset):\n",
        "    def __init__(self, dataframe, label_encoder):\n",
        "        self.sequences = dataframe['sequence'].values\n",
        "        self.labels = label_encoder.transform(dataframe['label'].values)\n",
        "    def __len__(self):\n",
        "        return len(self.sequences)\n",
        "    def __getitem__(self, idx):\n",
        "        seq = self.sequences[idx]\n",
        "        seq = seq[:SEQ_LENGTH].ljust(SEQ_LENGTH, 'N')\n",
        "        return torch.tensor(one_hot_encode(seq)), torch.tensor(self.labels[idx], dtype=torch.long)\n",
        "\n",
        "label_encoder = LabelEncoder().fit(CLASSES)\n",
        "train_df, _ = train_test_split(df, test_size=0.2, stratify=df['label'], random_state=42)\n",
        "train_dataset = DNADataset(train_df, label_encoder)\n",
        "train_loader = DataLoader(train_dataset, batch_size=BATCH_SIZE, shuffle=True)\n",
        "\n",
        "\n",
        "# MODEL DEFINITION AND TRAINING\n",
        "# -----------------------------------------------------\n",
        "class SimpleDNA_CNN(nn.Module):\n",
        "    def __init__(self, num_classes=4, seq_length=300):\n",
        "        super(SimpleDNA_CNN, self).__init__()\n",
        "        self.conv_layer = nn.Sequential(\n",
        "            nn.Conv1d(in_channels=4, out_channels=32, kernel_size=5, padding=1), nn.ReLU(), nn.MaxPool1d(kernel_size=2)\n",
        "        )\n",
        "        dummy_input = torch.randn(1, 4, seq_length)\n",
        "        conv_output_size = self.conv_layer(dummy_input).view(1, -1).size(1)\n",
        "        self.classifier = nn.Sequential(\n",
        "            nn.Flatten(), nn.Linear(conv_output_size, 128), nn.ReLU(), nn.Linear(128, num_classes)\n",
        "        )\n",
        "    def forward(self, x):\n",
        "        return self.classifier(self.conv_layer(x))\n",
        "\n",
        "print(\"\\n--- Training the model ---\")\n",
        "model = SimpleDNA_CNN(num_classes=len(CLASSES), seq_length=SEQ_LENGTH).to(DEVICE)\n",
        "criterion = nn.CrossEntropyLoss()\n",
        "optimizer = optim.Adam(model.parameters(), lr=LEARNING_RATE)\n",
        "\n",
        "for epoch in range(EPOCHS):\n",
        "    for sequences, labels in train_loader:\n",
        "        sequences, labels = sequences.to(DEVICE), labels.to(DEVICE)\n",
        "        optimizer.zero_grad()\n",
        "        loss = criterion(model(sequences), labels)\n",
        "        loss.backward()\n",
        "        optimizer.step()\n",
        "    if (epoch + 1) % 5 == 0:\n",
        "        print(f\"Epoch [{epoch+1}/{EPOCHS}], Loss: {loss.item():.4f}\")\n",
        "print(\"--- Model training complete ---\")\n",
        "\n",
        "\n",
        "# ANALYSIS FUNCTION AND FEATURE EXTRACTOR\n",
        "# --------------------------------------------\n",
        "class FeatureExtractor(nn.Module):\n",
        "    def __init__(self, original_model):\n",
        "        super(FeatureExtractor, self).__init__()\n",
        "        self.conv_layer = original_model.conv_layer\n",
        "        self.feature_layer = nn.Sequential(nn.Flatten(), original_model.classifier[1], original_model.classifier[2])\n",
        "    def forward(self, x):\n",
        "        return self.feature_layer(self.conv_layer(x))\n",
        "\n",
        "def process_sequences(sequences: list[str], feature_extractor, device: str = \"cpu\"):\n",
        "    feature_extractor.to(device)\n",
        "    feature_extractor.eval()\n",
        "\n",
        "    padded_sequences = [seq[:SEQ_LENGTH].ljust(SEQ_LENGTH, 'N') for seq in sequences]\n",
        "    encoded_seqs = [one_hot_encode(seq) for seq in padded_sequences]\n",
        "    seq_tensor = torch.tensor(np.array(encoded_seqs), dtype=torch.float32).to(device)\n",
        "\n",
        "    with torch.no_grad():\n",
        "        embeddings = feature_extractor(seq_tensor).cpu().numpy()\n",
        "\n",
        "    dbscan = DBSCAN(eps=3.5, min_samples=2)\n",
        "    cluster_labels = dbscan.fit_predict(embeddings)\n",
        "\n",
        "    results_df = pd.DataFrame({'sequence': sequences, 'cluster_label': cluster_labels})\n",
        "    return results_df\n",
        "\n",
        "\n",
        "# TESTING\n",
        "# ------------------\n",
        "\n",
        "# Create a Feature Extractor from the model we just trained\n",
        "trained_feature_extractor = FeatureExtractor(model)\n",
        "\n",
        "# Create a meaningful test set:\n",
        "# - Two sequences from the original dataset (should cluster together)\n",
        "# - One completely different sequence (should be an outlier)\n",
        "test_sequences = [\n",
        "    df[df['label'] == 'Arthropoda'].iloc[0]['sequence'], # An Arthropoda sequence\n",
        "    df[df['label'] == 'Arthropoda'].iloc[1]['sequence'], # Another Arthropoda sequence\n",
        "    \"TTGATTACGTACGTACGTACGTACGTACGTACGTACGTACGTACGTACGTACGTACGTA\" # A totally different sequence\n",
        "]\n",
        "\n",
        "# Run the function\n",
        "final_output_df = process_sequences(test_sequences, trained_feature_extractor, DEVICE)\n",
        "\n",
        "# Print the final results\n",
        "print(\"\\n✅ Final DataFrame Output:\")\n",
        "print(final_output_df)\n",
        "\n",
        "print(\"\\n✅ Final JSON Output:\")\n",
        "print(final_output_df.to_json(orient='records'))"
      ],
      "metadata": {
        "colab": {
          "base_uri": "https://localhost:8080/"
        },
        "id": "2ugyUbNey5db",
        "outputId": "95d92133-22ec-41cf-85a0-0e042d1cca38"
      },
      "execution_count": 22,
      "outputs": [
        {
          "output_type": "stream",
          "name": "stdout",
          "text": [
            "Using device: cuda\n",
            "Dataset already exists.\n",
            "\n",
            "--- Training the model ---\n",
            "Epoch [5/20], Loss: 0.0233\n",
            "Epoch [10/20], Loss: 0.0031\n",
            "Epoch [15/20], Loss: 0.0013\n",
            "Epoch [20/20], Loss: 0.0015\n",
            "--- Model training complete ---\n",
            "\n",
            "✅ Final DataFrame Output:\n",
            "                                            sequence  cluster_label\n",
            "0  TCTCAAAGATTAAGCCATGCATGTCTCAGTACAAACTATCTTATAG...              0\n",
            "1  GATTAAGCCATGCATGTATCAGTACAAGCCAAACTAAGGTAAACCG...              0\n",
            "2  TTGATTACGTACGTACGTACGTACGTACGTACGTACGTACGTACGT...             -1\n",
            "\n",
            "✅ Final JSON Output:\n",
            "[{\"sequence\":\"TCTCAAAGATTAAGCCATGCATGTCTCAGTACAAACTATCTTATAGTGAAACCGCAAAAGGCTCAGTATAACAGCTATTATTTATTTGATCATAAACCCAGTTACTTGGATAACTGTGGTAATTCCAGAGCTAATACATGCAAACAACATGGATCCCTGTAGCAATATGGGTGAGACATGTGCTTTTATTAGATTAAAACCAAGATCCGCTCTCGGGTGGATTTTTTTTAGATGAATCTGGATAATTATGGCTGATCGTATGGTCTTGTACCGACGATAGATCATTCAAATGTCTGCCCTATCAACTATTGATGGTAGTATAGAGGACTACCATGGTTGCAACGGGTAACGGGGAAATCAGGGTTCGATTCCGGAGAGGGAGCCTGAGAAACGGCTACCACATCTAAGGAAGGCAGCAGGCGCGTAAATTACCCAATCCCGGCACGGGGAGGTAGTGACGAAAAATAACAATACAGGACTCACATCCGAGGCCCTGTAATTGGAATGAGTACACTTTAAATCCTTTAACAAGTAACAATTGGAGGGCAAGTCTGGTGCCAGCAGCCGCGGTAATTCCAGCTCCAATAGCGTATATTAAAGTTGTTGCGGTTAAAACGTTCGTAGTTGAATTTGTGTCCCACACGGGTAATGCACCCAAGTGCGGGTTTGCATTACTTGTTGCATGTGCATTGGTAAAACGGTGTGCGTGTGACTTTAAGTGTGACGGATGTTTTACGGGTGAGGGAAACGATTCATTCTTTCGAGTTTGAAGACGCCCCTTATGTAAAAAACCCATTTTAGTGCTCTTTATCGAGTGCTCTTGTGGGCCGGTACAATTACTTTGAACAAATTAGAGTGCTTAAAGCAGGCTAAATGTAATGAAAATTATAACGCCTGAATATATTTTGCATGGAATAATGGAATAGGACCTCTGTTCTATTTGATTGGTTTCTAGATCAAGAGGTAATGATTAATAGAAGCAGTTGGGGGCATTAGTATTACGAGGCGAGAGGTGAAATTCGTAGACCCTCGTAAGACTGACTTAAGCGAAAGCATTTGCCAAGGATGTTTTCATTAATCAAGAACGAAAGTTAGAGGATCGAAGGCGATCAGATACCGCCCTAGTTCTAACCATAAACGATGCCAGCTAGCAATTGAATGTAGCTACTTATTTAGGCTCATTCAGTCGCTTTCCGGGAAACCAAAGCTTTTGGGCTCCGGGGGAAGTATGGTTGCAAAGCTGAAACTTAAAGGAATTGACGGAAGGGCACCACCAGGAGTGGAGCCTGCGGCTTAATTTGACTCAACACGGGAAAACTTACCAGGTCCGAACATAAATGAGTAAGACAGATTGATAGCTCTTTCTCGAATCTATGGGTGGTGGTGCATGGCCGTTCTTAGTTCGTGGAGTGATTTGTCTGGTTAATTCCGATAACGAACGAGACTCAAACTTTTTTAAATAGATGCTTGCAGGTTTATGACGCTGAAACTATGTGTGTGGGTGCTTTGGTTGTGCAAGCAATCATTGTGCCAATGCGTATGGTGGAGTTATACCTGTTTGGTTTGTCTTAAGAGGACACTTTGCTTCTTAAATGGACAAAATGCGTCTAGCATTAACGAGATTGNGCAATAACAGGTCTGTGATGCCCTTAGATGTCCTGGGCTGCACGCGCGCTACAATGAAGGTATCAATGTGTTTTATCCTTGACCGAGAGGTATGGGTAAACATTGAACCACCTTCTTGGTTGGGATTGTGGACTGTAACTGTTCACATGAACCCGGAATTCCCAGTAAGTGTGAGTCATAAGCTTGCATTGATTACGTNCCCTGCCCTTTGTACACACCGCCCGTCGCTACTACTGATGAATTGTTTAGTGAGGTCTCNGGACGTGTGCGCCGAAATACTCTTGTAGTAATTTGGTTTGTTACACAGAAGTTGACCGAACTTGATTATTTAGAGGAAGTAAAAGTC\",\"cluster_label\":0},{\"sequence\":\"GATTAAGCCATGCATGTATCAGTACAAGCCAAACTAAGGTAAACCGCGAATGGCTCATTAAATCAGTTATTATTTACTGGCCGAGACAGTGATACATGGATAACTGTGGTAATTCTAGAGCTAATACATGCAACCGAGCCCCAGTCCGGCCTCTCGGGGTCGGCCGGGGCGCTTTTATTGGCTGAAAACCGATGATTGCCCTTGTGGCGGTCGTTATTCGATGAATCACAATAACATTGTGTGGATCGCACGGTCTAGTACCGGCGACGCGCCTTTCAAATATCTGCCTTATCAGCTCTCGACGGTTTGCTAGTGGCTGACCGTGGCTCTGACGGGTAACGGGGAATCTGGGTTCGGTTCCGGAGAGGGAGCCTGAGAGATGGCTACCACATCTAAGGAAGGCAGCAGGCGCGTAACTTACCCACTCCCAGTTCAGGGAGGTAGTGACAATAAATACCTTACAGAGGTCTCGTTAACCGAGATCTCTCAAACGGAATGAGTACAACGTGAATCCTTTAACGAGGATCAACTGGAGGGCAAGCCTGGTGCCAGCAGCCGCGGTAATTCCAGCTCCAGTAGCGTATATTAAAGTTGTTGCGGTTAAAAAGCTCGTAGTTGGATATCAGTGCGTGTCCGGTCCGGTATGCTCGGCACCGTTTGCGGCAACGCGGCGGCCGCCGGGCTCCCAAATATCGGCTGGCCGCATTCAATCGTGCCGGATCCGTCGACGGGCCGTTCTTCGGAGGGGCCTGTTGGCGACCGGCGACGTTACCTTGAACAAATTAGAGTGCTCAAAGCAGGCTCTGAATGCCTGTATACATATTCATGGAATTGGAGAATACGTCCCTGGCTCGATTTGGTTGGTTTTGAGAGTCGAAGGGAAATGATTAATAGGGACTGACGGAGGCATTCGTATTGCGACGCGAGGGGTGAAATCCTGTGACCGTCGCACGACGAACTACTGCGAAAGCATTTGCCGAGAATGTTTTCATTAGTCAAGAACGAAAGTTAGAGGTTCGAAGGCGATCAGATACCGCCCTAGTTCTAACCGTAAACGATGTCGACCAGCAATCCGCAACGGTCACTACACGGACTGTGCGGGCAGCTTTCCCGGAGAAATCAGAGTGTCCGGACTCCGGGGGAAGTATGGTTGCAAAGCTGAAACTTAAAGGAATTGACGGAAGGGCACCACCAGGAGTGGAGCTTGCGGCTTAATTTGACTCAACACGGGACAACTCACCAGGCCCGGACACCGTAAGGATTGACAGACTGATAGCTCTCTCTTGATTCAGTGGGTGGTGGTGCATGGCCGTTCTTAGTTGGTGGAGTGATTTGTCTGGTTTATTCCGATAACGAACGAGACTCTGGCCTATTAAACTTGATGTCGCTAGTCATTATGTGACTGCGTCGTGCTTCTTAGAGGGATCATCGGCGTCCCAGCCGAAGGAAAGGGAGCAATAACAGGTCTGTGATGCCCTTAGATGTTCTGGGCAGCACGCGTGTTACACTGAAGTGGTCAGCGCGCCGTCTTACGTCCCTCTCCGTGAGGAGCGGGCAAACGTTTGAACCCTTTTCGTGATGGGAATTGGGGGTTGCAATTGTCCCCCATGAACGAGGAATTCCAAGTAAGCGCAGGTCACTAGCCTGCGTTGATTAAGTCCCTGCCCTTTGTACACACCGCCCGTCGCTACTACCGATGGATGATTTGGTGAGGTCGCCTAGACTGGCCGCTGGCTTCGGCCGTG\",\"cluster_label\":0},{\"sequence\":\"TTGATTACGTACGTACGTACGTACGTACGTACGTACGTACGTACGTACGTACGTACGTA\",\"cluster_label\":-1}]\n"
          ]
        }
      ]
    },
    {
      "cell_type": "code",
      "source": [
        "import os\n",
        "import pandas as pd\n",
        "import numpy as np\n",
        "import torch\n",
        "import torch.nn as nn\n",
        "import torch.optim as optim\n",
        "from torch.utils.data import Dataset, DataLoader\n",
        "from sklearn.model_selection import train_test_split\n",
        "from sklearn.preprocessing import LabelEncoder\n",
        "from Bio import Entrez, SeqIO\n",
        "\n",
        "# Settings\n",
        "Entrez.email = \"sairithwik2007@gmail.com\"\n",
        "NUM_SEQS_PER_CLASS = 25\n",
        "CLASSES = [\"Cnidaria\", \"Arthropoda\", \"Porifera\", \"Echinodermata\"]\n",
        "OUTPUT_CSV = \"dna_dataset.csv\"\n",
        "\n",
        "SEQ_LENGTH = 300\n",
        "BATCH_SIZE = 8\n",
        "LEARNING_RATE = 0.001\n",
        "EPOCHS = 20\n",
        "DEVICE = \"cuda\" if torch.cuda.is_available() else \"cpu\"\n"
      ],
      "metadata": {
        "id": "Bcko02WW0WcK"
      },
      "execution_count": 2,
      "outputs": []
    },
    {
      "cell_type": "code",
      "source": [
        "from sklearn.cluster import KMeans, DBSCAN\n",
        "from sklearn.manifold import TSNE"
      ],
      "metadata": {
        "id": "lp---vOuH2IA"
      },
      "execution_count": 3,
      "outputs": []
    },
    {
      "cell_type": "code",
      "source": [
        "def fetch_sequences(term, num_seqs):\n",
        "    print(f\"Searching for '{term}'...\")\n",
        "    handle = Entrez.esearch(db=\"nucleotide\", term=term, retmax=num_seqs, idtype=\"acc\")\n",
        "    results = Entrez.read(handle)\n",
        "    handle.close()\n",
        "    id_list = results[\"IdList\"]\n",
        "    if not id_list: return \"\"\n",
        "    handle = Entrez.efetch(db=\"nucleotide\", id=id_list, rettype=\"fasta\", retmode=\"text\")\n",
        "    records = handle.read()\n",
        "    handle.close()\n",
        "    return records\n"
      ],
      "metadata": {
        "id": "Hup3ukHj0aMl"
      },
      "execution_count": 4,
      "outputs": []
    },
    {
      "cell_type": "code",
      "source": [
        "if not os.path.exists(OUTPUT_CSV):\n",
        "    print(\"Downloading dataset...\")\n",
        "    all_data = []\n",
        "    for label in CLASSES:\n",
        "        search_term = f'(\"{label}\"[Organism]) AND 18S ribosomal RNA[Title] AND 1500:2500[Sequence Length]'\n",
        "        fasta_data = fetch_sequences(search_term, NUM_SEQS_PER_CLASS)\n",
        "        with open(\"temp.fasta\", \"w\") as f: f.write(fasta_data)\n",
        "        for record in SeqIO.parse(\"temp.fasta\", \"fasta\"):\n",
        "            all_data.append({\"sequence\": str(record.seq), \"label\": label})\n",
        "        os.remove(\"temp.fasta\")\n",
        "    df = pd.DataFrame(all_data)\n",
        "    df.to_csv(OUTPUT_CSV, index=False)"
      ],
      "metadata": {
        "id": "RZIOWgrQ1KLy",
        "colab": {
          "base_uri": "https://localhost:8080/"
        },
        "outputId": "3b458b32-988f-42c9-cde9-e5ea2ef38dff"
      },
      "execution_count": 5,
      "outputs": [
        {
          "output_type": "stream",
          "name": "stdout",
          "text": [
            "Downloading dataset...\n",
            "Searching for '(\"Cnidaria\"[Organism]) AND 18S ribosomal RNA[Title] AND 1500:2500[Sequence Length]'...\n",
            "Searching for '(\"Arthropoda\"[Organism]) AND 18S ribosomal RNA[Title] AND 1500:2500[Sequence Length]'...\n",
            "Searching for '(\"Porifera\"[Organism]) AND 18S ribosomal RNA[Title] AND 1500:2500[Sequence Length]'...\n",
            "Searching for '(\"Echinodermata\"[Organism]) AND 18S ribosomal RNA[Title] AND 1500:2500[Sequence Length]'...\n"
          ]
        }
      ]
    },
    {
      "cell_type": "code",
      "source": [
        "def one_hot_encode(seq):\n",
        "    mapping = {'A': 0, 'C': 1, 'G': 2, 'T': 3}\n",
        "    encoded = np.zeros((4, len(seq)), dtype=np.float32)\n",
        "    for i, base in enumerate(seq):\n",
        "        if base in mapping:\n",
        "            encoded[mapping[base], i] = 1.0\n",
        "    return encoded\n",
        "\n",
        "class DNADataset(Dataset):\n",
        "    def __init__(self, dataframe, label_encoder):\n",
        "        self.sequences = dataframe['sequence'].values\n",
        "        self.labels = label_encoder.transform(dataframe['label'].values)\n",
        "\n",
        "    def __len__(self):\n",
        "        return len(self.sequences)\n",
        "\n",
        "    def __getitem__(self, idx):\n",
        "        seq = self.sequences[idx]\n",
        "        label = self.labels[idx]\n",
        "        encoded_seq = one_hot_encode(seq)\n",
        "        return torch.tensor(encoded_seq, dtype=torch.float32), torch.tensor(label, dtype=torch.long)\n"
      ],
      "metadata": {
        "id": "9JkoqDXG0clv"
      },
      "execution_count": 6,
      "outputs": []
    },
    {
      "cell_type": "code",
      "source": [
        "df = pd.read_csv(OUTPUT_CSV)\n",
        "df['sequence'] = df['sequence'].apply(lambda x: x[:SEQ_LENGTH].ljust(SEQ_LENGTH, 'N'))\n",
        "\n",
        "classes = ['Cnidaria', 'Arthropoda', 'Porifera', 'Echinodermata']\n",
        "print(classes)\n",
        "\n",
        "label_encoder = LabelEncoder()\n",
        "label_encoder.fit_transform(classes)\n",
        "CLASSES = label_encoder.classes_\n",
        "print(CLASSES)\n",
        "\n",
        "train_df, val_df = train_test_split(df, test_size=0.2, stratify=df['label'], random_state=42)\n",
        "\n",
        "train_dataset = DNADataset(train_df, label_encoder)\n",
        "val_dataset = DNADataset(val_df, label_encoder)\n",
        "\n",
        "train_loader = DataLoader(train_dataset, batch_size=BATCH_SIZE, shuffle=True)\n",
        "val_loader = DataLoader(val_dataset, batch_size=BATCH_SIZE, shuffle=False)\n"
      ],
      "metadata": {
        "id": "ag-tXmMq0ihz",
        "colab": {
          "base_uri": "https://localhost:8080/"
        },
        "outputId": "a2fdf524-4f82-4c50-9b5e-20aa7d930823"
      },
      "execution_count": 7,
      "outputs": [
        {
          "output_type": "stream",
          "name": "stdout",
          "text": [
            "['Cnidaria', 'Arthropoda', 'Porifera', 'Echinodermata']\n",
            "['Arthropoda' 'Cnidaria' 'Echinodermata' 'Porifera']\n"
          ]
        }
      ]
    },
    {
      "cell_type": "code",
      "source": [
        "class SimpleDNA_CNN(nn.Module):\n",
        "    def __init__(self, num_classes=4, seq_length=SEQ_LENGTH):\n",
        "        super(SimpleDNA_CNN, self).__init__()\n",
        "\n",
        "        self.conv_layer = nn.Sequential(\n",
        "            nn.Conv1d(in_channels=4, out_channels=32, kernel_size=5, padding=1),\n",
        "            nn.ReLU(),\n",
        "            nn.MaxPool1d(kernel_size=2),\n",
        "            )\n",
        "\n",
        "        # Calculate the output size of the convolutional layer\n",
        "        # Pass a dummy tensor through the conv_layer to determine the size\n",
        "        dummy_input = torch.randn(1, 4, seq_length)\n",
        "        with torch.no_grad():\n",
        "            conv_output = self.conv_layer(dummy_input)\n",
        "        conv_output_size = conv_output.view(1, -1).size(1)\n",
        "\n",
        "\n",
        "        self.classifier = nn.Sequential(\n",
        "            nn.Flatten(),\n",
        "            nn.Linear(conv_output_size, 128),\n",
        "            nn.ReLU(),\n",
        "            nn.Linear(128, num_classes)\n",
        "        )\n",
        "\n",
        "    def forward(self,x):\n",
        "      x = self.conv_layer(x)\n",
        "      return self.classifier(x)"
      ],
      "metadata": {
        "id": "1Ge4CcrS0gEp"
      },
      "execution_count": 8,
      "outputs": []
    },
    {
      "cell_type": "code",
      "source": [
        "model = SimpleDNA_CNN(num_classes=len(CLASSES)).to(DEVICE)\n",
        "criterion = nn.CrossEntropyLoss()\n",
        "optimizer = optim.Adam(model.parameters(), lr=LEARNING_RATE)\n",
        "\n",
        "for epoch in range(EPOCHS):\n",
        "  model.train()\n",
        "  total_loss = 0\n",
        "  for sequences, labels in train_loader:\n",
        "    sequences, labels = sequences.to(DEVICE), labels.to(DEVICE)\n",
        "    optimizer.zero_grad()\n",
        "    outputs = model(sequences)\n",
        "    loss = criterion(outputs, labels)\n",
        "    loss.backward()\n",
        "    optimizer.step()\n",
        "    total_loss += loss.item()\n",
        "  print(f\"EPOCHS: {epoch}, Loss: {total_loss/len(train_loader):.4f}\")\n"
      ],
      "metadata": {
        "colab": {
          "base_uri": "https://localhost:8080/"
        },
        "id": "eKEOTSe-Dg6D",
        "outputId": "e7c1ebb1-34ae-44fc-a27c-4056b0c4be02"
      },
      "execution_count": 9,
      "outputs": [
        {
          "output_type": "stream",
          "name": "stdout",
          "text": [
            "EPOCHS: 0, Loss: 1.1712\n",
            "EPOCHS: 1, Loss: 0.6125\n",
            "EPOCHS: 2, Loss: 0.3785\n",
            "EPOCHS: 3, Loss: 0.1728\n",
            "EPOCHS: 4, Loss: 0.1018\n",
            "EPOCHS: 5, Loss: 0.0591\n",
            "EPOCHS: 6, Loss: 0.0327\n",
            "EPOCHS: 7, Loss: 0.0193\n",
            "EPOCHS: 8, Loss: 0.0105\n",
            "EPOCHS: 9, Loss: 0.0074\n",
            "EPOCHS: 10, Loss: 0.0059\n",
            "EPOCHS: 11, Loss: 0.0046\n",
            "EPOCHS: 12, Loss: 0.0038\n",
            "EPOCHS: 13, Loss: 0.0032\n",
            "EPOCHS: 14, Loss: 0.0028\n",
            "EPOCHS: 15, Loss: 0.0024\n",
            "EPOCHS: 16, Loss: 0.0021\n",
            "EPOCHS: 17, Loss: 0.0018\n",
            "EPOCHS: 18, Loss: 0.0016\n",
            "EPOCHS: 19, Loss: 0.0014\n"
          ]
        }
      ]
    },
    {
      "cell_type": "code",
      "source": [
        "model.eval()\n",
        "correct = 0\n",
        "total = 0\n",
        "with torch.no_grad():\n",
        "  for sequences, labels in val_loader:\n",
        "    sequences, labels = sequences.to(DEVICE), labels.to(DEVICE)\n",
        "    outputs = model(sequences)\n",
        "    _, predicted = torch.max(outputs.data, 1)\n",
        "    total += len(labels)\n",
        "    correct += (predicted == labels).sum().item()\n",
        "accuracy = 100 * correct / total\n",
        "print(f\"Validation Accuracy: {accuracy:.2f}%\")"
      ],
      "metadata": {
        "colab": {
          "base_uri": "https://localhost:8080/"
        },
        "id": "fefq9YqWHqPQ",
        "outputId": "367697db-4040-4099-9e4e-345c4b9511c2"
      },
      "execution_count": 10,
      "outputs": [
        {
          "output_type": "stream",
          "name": "stdout",
          "text": [
            "Validation Accuracy: 90.00%\n"
          ]
        }
      ]
    },
    {
      "cell_type": "code",
      "source": [
        "class FeatureExtractor(nn.Module):\n",
        "    def __init__(self, original_model):\n",
        "        super(FeatureExtractor, self).__init__()\n",
        "        # Using the convolutional part from the original model\n",
        "        self.conv_layer = original_model.conv_layer\n",
        "\n",
        "        # Using the first part of the classifier (up to the 128-dim layer)\n",
        "        self.feature_layer = nn.Sequential(\n",
        "            nn.Flatten(),\n",
        "            original_model.classifier[1], # nn.Linear(conv_output_size, 128)\n",
        "            original_model.classifier[2]  # nn.ReLU()\n",
        "        )\n",
        "\n",
        "    def forward(self, x):\n",
        "        x = self.conv_layer(x)\n",
        "        x = self.feature_layer(x)\n",
        "        return x"
      ],
      "metadata": {
        "id": "_TpSj1hwIDGa"
      },
      "execution_count": 11,
      "outputs": []
    },
    {
      "cell_type": "code",
      "source": [
        "# Create the feature extractor and load the trained weights\n",
        "feature_extractor = FeatureExtractor(model).to(DEVICE)\n",
        "feature_extractor.eval()  # Set to evaluation mode\n",
        "print(\"Feature extractor created.\")\n",
        "\n",
        "# Create a DataLoader for ALL data (train + val)\n",
        "# In a real scenario, this would be new, unlabeled eDNA data\n",
        "full_dataset = torch.utils.data.ConcatDataset([train_dataset, val_dataset])\n",
        "full_loader = DataLoader(full_dataset, batch_size=BATCH_SIZE, shuffle=False)"
      ],
      "metadata": {
        "colab": {
          "base_uri": "https://localhost:8080/"
        },
        "id": "yugxPExAIC_A",
        "outputId": "b16faae1-d8c7-46cf-858a-c100418ae8d8"
      },
      "execution_count": 12,
      "outputs": [
        {
          "output_type": "stream",
          "name": "stdout",
          "text": [
            "Feature extractor created.\n"
          ]
        }
      ]
    },
    {
      "cell_type": "code",
      "source": [
        "import matplotlib.pyplot as plt\n",
        "from sklearn.neighbors import NearestNeighbors\n",
        "\n",
        "# 1. Get embeddings for the entire training set\n",
        "# -----------------------------------------------\n",
        "\n",
        "all_embeddings = []\n",
        "trained_feature_extractor = FeatureExtractor(model) # Make sure this is defined\n",
        "trained_feature_extractor.eval()\n",
        "\n",
        "# Use the full dataset loader from your training script\n",
        "full_train_dataset = DNADataset(train_df, label_encoder)\n",
        "full_train_loader = DataLoader(full_train_dataset, batch_size=BATCH_SIZE)\n",
        "\n",
        "with torch.no_grad():\n",
        "    for sequences, _ in full_train_loader:\n",
        "        sequences = sequences.to(DEVICE)\n",
        "        embeddings = trained_feature_extractor(sequences)\n",
        "        all_embeddings.append(embeddings.cpu().numpy())\n",
        "\n",
        "all_embeddings = np.concatenate(all_embeddings)\n",
        "\n",
        "# 2. Calculate the k-distance graph\n",
        "# -----------------------------------\n",
        "# We set n_neighbors to min_samples (which is 2 in our case).\n",
        "# We want the distance to the 1st nearest neighbor (k=1, since indexing is 0-based).\n",
        "k = 2\n",
        "nbrs = NearestNeighbors(n_neighbors=k).fit(all_embeddings)\n",
        "distances, indices = nbrs.kneighbors(all_embeddings)\n",
        "\n",
        "# Get the distance to the k-th neighbor (the second column, index 1)\n",
        "k_distances = np.sort(distances[:, k-1], axis=0)\n",
        "\n",
        "# 3. Plot the graph\n",
        "# -------------------\n",
        "plt.figure(figsize=(10, 6))\n",
        "plt.plot(k_distances)\n",
        "plt.title('K-Distance Graph')\n",
        "plt.xlabel('Points (sorted by distance)')\n",
        "plt.ylabel(f'Distance to {k-1}-th Nearest Neighbor (eps)')\n",
        "plt.grid(True)\n",
        "plt.show()"
      ],
      "metadata": {
        "colab": {
          "base_uri": "https://localhost:8080/",
          "height": 581
        },
        "id": "gXmvaqqIz3lJ",
        "outputId": "d5411a5f-5484-4acc-973a-9ac9c50223b0"
      },
      "execution_count": 21,
      "outputs": [
        {
          "output_type": "stream",
          "name": "stdout",
          "text": [
            "Generating embeddings for the full training set to find a good eps...\n"
          ]
        },
        {
          "output_type": "display_data",
          "data": {
            "text/plain": [
              "<Figure size 1000x600 with 1 Axes>"
            ],
            "image/png": "[encoded data removed]"
          },
          "metadata": {}
        }
      ]
    },
    {
      "cell_type": "code",
      "source": [
        "torch.save(model.state_dict(), \"dna_classifier.pth\")"
      ],
      "metadata": {
        "id": "S62C2ZhnMyWq"
      },
      "execution_count": null,
      "outputs": []
    },
    {
      "cell_type": "code",
      "source": [
        "model = SimpleDNA_CNN()\n",
        "\n",
        "model.load_state_dict(torch.load(\"DeepTide_v0.pth\", map_location=torch.device('cpu')))\n",
        "model.eval()\n",
        "classes = ['Cnidaria', 'Arthropoda', 'Porifera', 'Echinodermata']\n",
        "label_encoder = LabelEncoder()\n",
        "label_encoder.fit_transform(classes)\n",
        "CLASSES = label_encoder.classes_\n",
        "print(CLASSES)"
      ],
      "metadata": {
        "id": "1nEdxUMc1yQ-"
      },
      "execution_count": null,
      "outputs": []
    },
    {
      "cell_type": "code",
      "source": [
        "seq =\"TGAAGACCTAAGCCCATAGCCTACCTGCAATAACCCTAGGGTACCAAATCGTCCGGCTGAGGTCTTGACGAATACTACGGAAATAGTATGATTTAAAGCCGGGGTCTGATTTACATATGTTATCCAAAAGCGCGTGCTCCACGTACGTGACGGCTGTCCCTTCGAGGAATCAGGATTGCCCCGTGGATATTGGACATCTCCAAAAGCTATTCCGACCCTCCCGCCTCGAGAGAAACCGACTAGGCTCTAATCAGTGACTACAGAGTTCGCGCCTTAACAAAGCCCACCACCAGCTAGGCT\"\n",
        "encoded_seq = one_hot_encode(seq)\n",
        "input_tensor = torch.tensor(encoded_seq, dtype=torch.float32).unsqueeze(0).to(\"cpu\")\n",
        "\n",
        "model.eval()\n",
        "with torch.no_grad():\n",
        "    output = model(input_tensor)\n",
        "    _, predicted_class = torch.max(output, 1)\n",
        "    probabilities = torch.softmax(output, dim=1)\n",
        "    confidence = probabilities[0][predicted_class].item()*100\n",
        "\n",
        "print(output)\n",
        "print(probabilities)\n",
        "predicted_label = label_encoder.inverse_transform(predicted_class.cpu().numpy())\n",
        "print(\"Predicted class:\", predicted_label[0])\n",
        "print(f\"Confidence: {confidence:.4f}\")"
      ],
      "metadata": {
        "id": "IEtXFHXD1zdk"
      },
      "execution_count": null,
      "outputs": []
    }
  ]
}