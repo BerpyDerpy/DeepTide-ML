{
  "nbformat": 4,
  "nbformat_minor": 0,
  "metadata": {
    "colab": {
      "provenance": [],
      "gpuType": "T4",
      "include_colab_link": true
    },
    "kernelspec": {
      "name": "python3",
      "display_name": "Python 3"
    },
    "language_info": {
      "name": "python"
    },
    "accelerator": "GPU"
  },
  "cells": [
    {
      "cell_type": "markdown",
      "metadata": {
        "id": "view-in-github",
        "colab_type": "text"
      },
      "source": [
        "<a href=\"https://colab.research.google.com/github/BerpyDerpy/DeepTide-ML/blob/main/DeepTide_v0.ipynb\" target=\"_parent\"><img src=\"https://colab.research.google.com/assets/colab-badge.svg\" alt=\"Open In Colab\"/></a>"
      ]
    },
    {
      "cell_type": "code",
      "source": [
        "pip install biopython"
      ],
      "metadata": {
        "colab": {
          "base_uri": "https://localhost:8080/"
        },
        "id": "Xbu1cxwlu0By",
        "outputId": "193a74f6-a872-4179-e8cf-13422e8b9358"
      },
      "execution_count": null,
      "outputs": [
        {
          "output_type": "stream",
          "name": "stdout",
          "text": [
            "Collecting biopython\n",
            "  Downloading biopython-1.85-cp312-cp312-manylinux_2_17_x86_64.manylinux2014_x86_64.whl.metadata (13 kB)\n",
            "Requirement already satisfied: numpy in /usr/local/lib/python3.12/dist-packages (from biopython) (2.0.2)\n",
            "Downloading biopython-1.85-cp312-cp312-manylinux_2_17_x86_64.manylinux2014_x86_64.whl (3.3 MB)\n",
            "\u001b[?25l   \u001b[90m━━━━━━━━━━━━━━━━━━━━━━━━━━━━━━━━━━━━━━━━\u001b[0m \u001b[32m0.0/3.3 MB\u001b[0m \u001b[31m?\u001b[0m eta \u001b[36m-:--:--\u001b[0m\r\u001b[2K   \u001b[91m━━━━━━━━━━━━━━━━━━━━\u001b[0m\u001b[90m╺\u001b[0m\u001b[90m━━━━━━━━━━━━━━━━━━━\u001b[0m \u001b[32m1.7/3.3 MB\u001b[0m \u001b[31m49.5 MB/s\u001b[0m eta \u001b[36m0:00:01\u001b[0m\r\u001b[2K   \u001b[90m━━━━━━━━━━━━━━━━━━━━━━━━━━━━━━━━━━━━━━━━\u001b[0m \u001b[32m3.3/3.3 MB\u001b[0m \u001b[31m53.5 MB/s\u001b[0m eta \u001b[36m0:00:00\u001b[0m\n",
            "\u001b[?25hInstalling collected packages: biopython\n",
            "Successfully installed biopython-1.85\n"
          ]
        }
      ]
    },
    {
      "cell_type": "code",
      "source": [
        "import os\n",
        "import pandas as pd\n",
        "import numpy as np\n",
        "import torch\n",
        "import torch.nn as nn\n",
        "import torch.optim as optim\n",
        "from torch.utils.data import Dataset, DataLoader\n",
        "from sklearn.model_selection import train_test_split\n",
        "from sklearn.preprocessing import LabelEncoder\n",
        "from Bio import Entrez, SeqIO\n",
        "\n",
        "# Settings\n",
        "Entrez.email = \"sairithwik2007@gmail.com\"\n",
        "NUM_SEQS_PER_CLASS = 25\n",
        "CLASSES = [\"Cnidaria\", \"Arthropoda\", \"Porifera\", \"Echinodermata\"]\n",
        "OUTPUT_CSV = \"dna_dataset.csv\"\n",
        "\n",
        "SEQ_LENGTH = 300\n",
        "BATCH_SIZE = 8\n",
        "LEARNING_RATE = 0.001\n",
        "EPOCHS = 20\n",
        "DEVICE = \"cuda\" if torch.cuda.is_available() else \"cpu\"\n"
      ],
      "metadata": {
        "id": "Bcko02WW0WcK"
      },
      "execution_count": null,
      "outputs": []
    },
    {
      "cell_type": "code",
      "source": [
        "def fetch_sequences(term, num_seqs):\n",
        "    print(f\"Searching for '{term}'...\")\n",
        "    handle = Entrez.esearch(db=\"nucleotide\", term=term, retmax=num_seqs, idtype=\"acc\")\n",
        "    results = Entrez.read(handle)\n",
        "    handle.close()\n",
        "    id_list = results[\"IdList\"]\n",
        "    if not id_list: return \"\"\n",
        "    handle = Entrez.efetch(db=\"nucleotide\", id=id_list, rettype=\"fasta\", retmode=\"text\")\n",
        "    records = handle.read()\n",
        "    handle.close()\n",
        "    return records\n"
      ],
      "metadata": {
        "id": "Hup3ukHj0aMl"
      },
      "execution_count": null,
      "outputs": []
    },
    {
      "cell_type": "code",
      "source": [
        "if not os.path.exists(OUTPUT_CSV):\n",
        "    print(\"Downloading dataset...\")\n",
        "    all_data = []\n",
        "    for label in CLASSES:\n",
        "        search_term = f'(\"{label}\"[Organism]) AND 18S ribosomal RNA[Title] AND 1500:2500[Sequence Length]'\n",
        "        fasta_data = fetch_sequences(search_term, NUM_SEQS_PER_CLASS)\n",
        "        with open(\"temp.fasta\", \"w\") as f: f.write(fasta_data)\n",
        "        for record in SeqIO.parse(\"temp.fasta\", \"fasta\"):\n",
        "            all_data.append({\"sequence\": str(record.seq), \"label\": label})\n",
        "        os.remove(\"temp.fasta\")\n",
        "    df = pd.DataFrame(all_data)\n",
        "    df.to_csv(OUTPUT_CSV, index=False)"
      ],
      "metadata": {
        "id": "RZIOWgrQ1KLy",
        "colab": {
          "base_uri": "https://localhost:8080/"
        },
        "outputId": "607239de-96d6-4871-ee83-d8d5b263b9f3"
      },
      "execution_count": null,
      "outputs": [
        {
          "output_type": "stream",
          "name": "stdout",
          "text": [
            "Downloading dataset...\n",
            "Searching for '(\"Cnidaria\"[Organism]) AND 18S ribosomal RNA[Title] AND 1500:2500[Sequence Length]'...\n",
            "Searching for '(\"Arthropoda\"[Organism]) AND 18S ribosomal RNA[Title] AND 1500:2500[Sequence Length]'...\n",
            "Searching for '(\"Porifera\"[Organism]) AND 18S ribosomal RNA[Title] AND 1500:2500[Sequence Length]'...\n",
            "Searching for '(\"Echinodermata\"[Organism]) AND 18S ribosomal RNA[Title] AND 1500:2500[Sequence Length]'...\n"
          ]
        }
      ]
    },
    {
      "cell_type": "code",
      "source": [
        "def one_hot_encode(seq):\n",
        "    mapping = {'A': 0, 'C': 1, 'G': 2, 'T': 3}\n",
        "    encoded = np.zeros((4, len(seq)), dtype=np.float32)\n",
        "    for i, base in enumerate(seq):\n",
        "        if base in mapping:\n",
        "            encoded[mapping[base], i] = 1.0\n",
        "    return encoded\n",
        "\n",
        "class DNADataset(Dataset):\n",
        "    def __init__(self, dataframe, label_encoder):\n",
        "        self.sequences = dataframe['sequence'].values\n",
        "        self.labels = label_encoder.transform(dataframe['label'].values)\n",
        "\n",
        "    def __len__(self):\n",
        "        return len(self.sequences)\n",
        "\n",
        "    def __getitem__(self, idx):\n",
        "        seq = self.sequences[idx]\n",
        "        label = self.labels[idx]\n",
        "        encoded_seq = one_hot_encode(seq)\n",
        "        return torch.tensor(encoded_seq, dtype=torch.float32), torch.tensor(label, dtype=torch.long)\n"
      ],
      "metadata": {
        "id": "9JkoqDXG0clv"
      },
      "execution_count": null,
      "outputs": []
    },
    {
      "cell_type": "code",
      "source": [
        "df = pd.read_csv(OUTPUT_CSV)\n",
        "df['sequence'] = df['sequence'].apply(lambda x: x[:SEQ_LENGTH].ljust(SEQ_LENGTH, 'N'))\n",
        "\n",
        "classes = ['Cnidaria', 'Arthropoda', 'Porifera', 'Echinodermata']\n",
        "print(classes)\n",
        "\n",
        "label_encoder = LabelEncoder()\n",
        "label_encoder.fit_transform(classes)\n",
        "CLASSES = label_encoder.classes_\n",
        "print(CLASSES)\n",
        "\n",
        "train_df, val_df = train_test_split(df, test_size=0.2, stratify=df['label'], random_state=42)\n",
        "\n",
        "train_dataset = DNADataset(train_df, label_encoder)\n",
        "val_dataset = DNADataset(val_df, label_encoder)\n",
        "\n",
        "train_loader = DataLoader(train_dataset, batch_size=BATCH_SIZE, shuffle=True)\n",
        "val_loader = DataLoader(val_dataset, batch_size=BATCH_SIZE, shuffle=False)\n"
      ],
      "metadata": {
        "id": "ag-tXmMq0ihz",
        "colab": {
          "base_uri": "https://localhost:8080/"
        },
        "outputId": "1d53c72c-c6c3-48a3-83f1-a40048ad49f6"
      },
      "execution_count": null,
      "outputs": [
        {
          "output_type": "stream",
          "name": "stdout",
          "text": [
            "['Cnidaria', 'Arthropoda', 'Porifera', 'Echinodermata']\n",
            "['Arthropoda' 'Cnidaria' 'Echinodermata' 'Porifera']\n"
          ]
        }
      ]
    },
    {
      "cell_type": "code",
      "source": [
        "class SimpleDNA_CNN(nn.Module):\n",
        "    def __init__(self, num_classes=4, seq_length=SEQ_LENGTH):\n",
        "        super(SimpleDNA_CNN, self).__init__()\n",
        "\n",
        "        self.conv_layer = nn.Sequential(\n",
        "            nn.Conv1d(in_channels=4, out_channels=32, kernel_size=5, padding=1),\n",
        "            nn.ReLU(),\n",
        "            nn.MaxPool1d(kernel_size=2),\n",
        "            )\n",
        "\n",
        "        # Calculate the output size of the convolutional layer\n",
        "        # Pass a dummy tensor through the conv_layer to determine the size\n",
        "        dummy_input = torch.randn(1, 4, seq_length)\n",
        "        with torch.no_grad():\n",
        "            conv_output = self.conv_layer(dummy_input)\n",
        "        conv_output_size = conv_output.view(1, -1).size(1)\n",
        "\n",
        "\n",
        "        self.classifier = nn.Sequential(\n",
        "            nn.Flatten(),\n",
        "            nn.Linear(conv_output_size, 128),\n",
        "            nn.ReLU(),\n",
        "            nn.Linear(128, num_classes)\n",
        "        )\n",
        "\n",
        "    def forward(self,x):\n",
        "      x = self.conv_layer(x)\n",
        "      return self.classifier(x)"
      ],
      "metadata": {
        "id": "1Ge4CcrS0gEp"
      },
      "execution_count": null,
      "outputs": []
    },
    {
      "cell_type": "code",
      "source": [
        "model = SimpleDNA_CNN(num_classes=len(CLASSES)).to(DEVICE)\n",
        "criterion = nn.CrossEntropyLoss()\n",
        "optimizer = optim.Adam(model.parameters(), lr=LEARNING_RATE)\n",
        "\n",
        "for epoch in range(EPOCHS):\n",
        "  model.train()\n",
        "  total_loss = 0\n",
        "  for sequences, labels in train_loader:\n",
        "    sequences, labels = sequences.to(DEVICE), labels.to(DEVICE)\n",
        "    optimizer.zero_grad()\n",
        "    outputs = model(sequences)\n",
        "    loss = criterion(outputs, labels)\n",
        "    loss.backward()\n",
        "    optimizer.step()\n",
        "    total_loss += loss.item()\n",
        "  print(f\"EPOCHS: {epoch}, Loss: {total_loss/len(train_loader):.4f}\")\n"
      ],
      "metadata": {
        "colab": {
          "base_uri": "https://localhost:8080/"
        },
        "id": "eKEOTSe-Dg6D",
        "outputId": "39e307b3-c1c5-4cbe-b9f9-b9575b8cdab8"
      },
      "execution_count": null,
      "outputs": [
        {
          "output_type": "stream",
          "name": "stdout",
          "text": [
            "EPOCHS: 0, Loss: 1.2078\n",
            "EPOCHS: 1, Loss: 0.6782\n",
            "EPOCHS: 2, Loss: 0.4170\n",
            "EPOCHS: 3, Loss: 0.2470\n",
            "EPOCHS: 4, Loss: 0.1293\n",
            "EPOCHS: 5, Loss: 0.0669\n",
            "EPOCHS: 6, Loss: 0.0362\n",
            "EPOCHS: 7, Loss: 0.0238\n",
            "EPOCHS: 8, Loss: 0.0158\n",
            "EPOCHS: 9, Loss: 0.0120\n",
            "EPOCHS: 10, Loss: 0.0094\n",
            "EPOCHS: 11, Loss: 0.0075\n",
            "EPOCHS: 12, Loss: 0.0064\n",
            "EPOCHS: 13, Loss: 0.0054\n",
            "EPOCHS: 14, Loss: 0.0046\n",
            "EPOCHS: 15, Loss: 0.0040\n",
            "EPOCHS: 16, Loss: 0.0035\n",
            "EPOCHS: 17, Loss: 0.0032\n",
            "EPOCHS: 18, Loss: 0.0028\n",
            "EPOCHS: 19, Loss: 0.0026\n"
          ]
        }
      ]
    },
    {
      "cell_type": "code",
      "source": [
        "model.eval()\n",
        "correct = 0\n",
        "total = 0\n",
        "with torch.no_grad():\n",
        "  for sequences, labels in val_loader:\n",
        "    sequences, labels = sequences.to(DEVICE), labels.to(DEVICE)\n",
        "    outputs = model(sequences)\n",
        "    _, predicted = torch.max(outputs.data, 1)\n",
        "    total += len(labels)\n",
        "    correct += (predicted == labels).sum().item()\n",
        "accuracy = 100 * correct / total\n",
        "print(f\"Validation Accuracy: {accuracy:.2f}%\")"
      ],
      "metadata": {
        "colab": {
          "base_uri": "https://localhost:8080/"
        },
        "id": "fefq9YqWHqPQ",
        "outputId": "96cd56f6-7b1d-47cd-f3d0-ed605fe205bd"
      },
      "execution_count": null,
      "outputs": [
        {
          "output_type": "stream",
          "name": "stdout",
          "text": [
            "Validation Accuracy: 90.00%\n"
          ]
        }
      ]
    },
    {
      "cell_type": "code",
      "source": [
        "torch.save(model.state_dict(), \"dna_classifier.pth\")"
      ],
      "metadata": {
        "id": "S62C2ZhnMyWq"
      },
      "execution_count": null,
      "outputs": []
    },
    {
      "cell_type": "code",
      "source": [
        "model = SimpleDNA_CNN()\n",
        "\n",
        "model.load_state_dict(torch.load(\"DeepTide_v0.pth\", map_location=torch.device('cpu')))\n",
        "model.eval()\n",
        "classes = ['Cnidaria', 'Arthropoda', 'Porifera', 'Echinodermata']\n",
        "label_encoder = LabelEncoder()\n",
        "label_encoder.fit_transform(classes)\n",
        "CLASSES = label_encoder.classes_\n",
        "print(CLASSES)"
      ],
      "metadata": {
        "colab": {
          "base_uri": "https://localhost:8080/"
        },
        "id": "1nEdxUMc1yQ-",
        "outputId": "6b332a2e-2eec-4b7a-cb48-cc23a72271c3"
      },
      "execution_count": null,
      "outputs": [
        {
          "output_type": "stream",
          "name": "stdout",
          "text": [
            "['Arthropoda' 'Cnidaria' 'Echinodermata' 'Porifera']\n"
          ]
        }
      ]
    },
    {
      "cell_type": "code",
      "source": [
        "seq =\"TGAAGACCTAAGCCCATAGCCTACCTGCAATAACCCTAGGGTACCAAATCGTCCGGCTGAGGTCTTGACGAATACTACGGAAATAGTATGATTTAAAGCCGGGGTCTGATTTACATATGTTATCCAAAAGCGCGTGCTCCACGTACGTGACGGCTGTCCCTTCGAGGAATCAGGATTGCCCCGTGGATATTGGACATCTCCAAAAGCTATTCCGACCCTCCCGCCTCGAGAGAAACCGACTAGGCTCTAATCAGTGACTACAGAGTTCGCGCCTTAACAAAGCCCACCACCAGCTAGGCT\"\n",
        "encoded_seq = one_hot_encode(seq)\n",
        "input_tensor = torch.tensor(encoded_seq, dtype=torch.float32).unsqueeze(0).to(\"cpu\")\n",
        "\n",
        "model.eval()\n",
        "with torch.no_grad():\n",
        "    output = model(input_tensor)\n",
        "    _, predicted_class = torch.max(output, 1)\n",
        "    probabilities = torch.softmax(output, dim=1)\n",
        "    confidence = probabilities[0][predicted_class].item()*100\n",
        "\n",
        "print(output)\n",
        "print(probabilities)\n",
        "predicted_label = label_encoder.inverse_transform(predicted_class.cpu().numpy())\n",
        "print(\"Predicted class:\", predicted_label[0])\n",
        "print(f\"Confidence: {confidence:.4f}\")"
      ],
      "metadata": {
        "colab": {
          "base_uri": "https://localhost:8080/"
        },
        "id": "IEtXFHXD1zdk",
        "outputId": "de192515-e464-4718-b3b5-1fc85c2c01bd"
      },
      "execution_count": null,
      "outputs": [
        {
          "output_type": "stream",
          "name": "stdout",
          "text": [
            "tensor([[-1.2638,  1.4131, -0.3065,  0.6217]])\n",
            "tensor([[0.0404, 0.5879, 0.1053, 0.2664]])\n",
            "Predicted class: Cnidaria\n",
            "Confidence: 58.7855\n"
          ]
        }
      ]
    }
  ]
}